{
 "cells": [
  {
   "cell_type": "markdown",
   "metadata": {},
   "source": [
    "The purpose of this notebook is to quantify bacterial cells in a set of environmental samples. We can start by importing the analysis packages we need. "
   ]
  },
  {
   "cell_type": "code",
   "execution_count": 1,
   "metadata": {},
   "outputs": [],
   "source": [
    "import os\n",
    "import FlowCytometryTools as fct\n",
    "import numpy as np\n",
    "import matplotlib.pyplot as plt"
   ]
  },
  {
   "cell_type": "code",
   "execution_count": null,
   "metadata": {},
   "outputs": [],
   "source": [
    "data_dir = \"../FlowCytometryData/FCS/2019-10-30 Keith Arora-Williams Bead Test\"\n",
    "data_files = {i[:-8]:os.path.join(data_dir, i) for i in os.listdir(data_dir)}\n",
    "\n",
    "bead_sample = fct.FCMeasurement(ID='just_beads', datafile=data_files['Specimen_001_countbright beads'])\n",
    "bead_sample_df = bead_sample.data\n",
    "beads_and_cells = fct.FCMeasurement(ID='F_Mix_R1_SG1', datafile=data_files['Specimen_001_Tube 4'])\n",
    "beads_and_cells_df = beads_and_cells.data\n",
    "sample = fct.FCMeasurement(ID='F_Contam_R1_SG1', datafile=data_files['Specimen_001_Tube 1'])\n",
    "tube1_df = sample.data\n",
    "sample = fct.FCMeasurement(ID='F_Mix_R1_SG0', datafile=data_files['Specimen_001_Tube 2'])\n",
    "tube2_df = sample.data\n",
    "sample = fct.FCMeasurement(ID='F_Media_R1', datafile=data_files['Specimen_001_Tube 7'])\n",
    "tube7_df = sample.data\n",
    "sample = fct.FCMeasurement(ID='UF_Mix_R1', datafile=data_files['Threshold SSC 200_Tube 9'])\n",
    "tube9_df = sample.data\n",
    "sample = fct.FCMeasurement(ID='F_Mix_R1_SG1', datafile=data_files['Threshold SYBR Green 1000_Tube 4'])\n",
    "tube4_df = sample.data\n",
    "print(tube4_df.columns)"
   ]
  },
  {
   "cell_type": "code",
   "execution_count": null,
   "metadata": {},
   "outputs": [],
   "source": [
    "import seaborn as sns\n",
    "\n",
    "data_df  = bead_sample_df.copy()\n",
    "if len(data_df) <= 10000:\n",
    "    data_df_s = data_df.copy()\n",
    "else:\n",
    "    data_df_s = dat_df.sample(10000)\n",
    "\n",
    "sns.set(style=\"whitegrid\", color_codes=True)\n",
    "print(\"Plotting scatter plots\")\n",
    "scatter_pairs = [('488 530/30-A', 'SSC-A'), ('488 530/30-A', '488 585/42-A'),\n",
    "                 ('488 530/30-A', '488 670LP-A'), ('488 530/30-A', '488 780/60-A')]\n",
    "figs, axes_s = plt.subplots(2,2, figsize=(12, 12), num=2)\n",
    "figs.suptitle(name)\n",
    "for (c1, c2), x, y in zip(scatter_pairs, [0,0,1,1], [0,1,0,1]):\n",
    "    g = sns.jointplot(ch1, ch2, data=data_df_s, color=\"k\",).plot_joint(sns.kdeplot, zorder=0, n_levels=10)\n",
    "\n",
    "plt.show()"
   ]
  },
  {
   "cell_type": "code",
   "execution_count": null,
   "metadata": {},
   "outputs": [],
   "source": [
    "channels = ['SSC-A', '488 530/30-A', '488 585/42-A', \"488 670LP-A\", \"488 780/60-A\"]\n",
    "channels = [i for i in bead_sample_df.columns if i.endswith(\"A\")]\n",
    "colors_ = ['red', 'green', 'blue', 'magenta', 'cyan', 'black', 'yellow', 'orange']\n",
    "plt.close('all');\n",
    "fig, axes_ = plt.subplots(len(channels), 1, figsize=(12,2.5*len(channels)), num=1)\n",
    "for idx, (ch, co) in enumerate(zip(channels, colors_)):\n",
    "    print(ch, co, bead_sample_df[ch].shape, bead_sample_df[ch].min(), bead_sample_df[ch].max())\n",
    "    bead_sample_df[ch].plot.hist(bins=int(bead_sample_df.shape[0]/5), color=co, alpha=0.7, ax=axes_[idx])\n",
    "    axes_[idx].set_ylim(ymin=0, ymax=50)"
   ]
  },
  {
   "cell_type": "code",
   "execution_count": null,
   "metadata": {},
   "outputs": [],
   "source": [
    "fig, axes_ = plt.subplots(len(channels), 1, figsize=(12,2.5*len(channels)), num=2)\n",
    "for idx, (ch, co) in enumerate(zip(channels, colors_)):\n",
    "    print(ch, co, beads_and_cells_df[ch].shape, beads_and_cells_df[ch].min(), bead_sample_df[ch].max())\n",
    "    beads_and_cells_df[ch].plot.hist(bins=int(800), color=co, alpha=0.7, ax=axes_[idx])\n",
    "    axes_[idx].set_ylim(ymin=0, ymax=50)\n",
    "#    axes_[idx].set_xlim(xmin=-500, xmax=25000)"
   ]
  },
  {
   "cell_type": "code",
   "execution_count": null,
   "metadata": {},
   "outputs": [],
   "source": [
    "#bead_threshold = {'SSC-A': [200000, 350000],\n",
    "\n",
    "\n",
    "fixative_dilution = 0.5 # \n",
    "bead_concentration = 1e6 # beads per mL\n",
    "bead_volume = 0.05 # mL\n",
    "cells_volume = 0.5 # mL \n",
    "ratio_multiplier = (bead_concentration*bead_volume)/(cells_volume)\n",
    "df_ls = [bead_sample_df, beads_and_cells_df, tube4_df, tube1_df, tube2_df, tube7_df, tube9_df]\n",
    "name_ls = ['just_beads', 'beads_and_cells', \"Tube4\", \"Tube1\", \"Tube2\", \"Tube7\", \"Tube9\"]\n",
    "for df, df_n in zip(df_ls, name_ls):\n",
    "    bead_idx = None\n",
    "    for ch, (l1, l2) in bead_threshold.items():\n",
    "        if not bead_idx:\n",
    "            bead_idx = set(df[(df[ch] > l1) & (df[ch] < l2)].index)\n",
    "        else:\n",
    "            bead_idx = bead_idx.intersection(set(df[(df[ch] > l1) & (df[ch] < l2)].index))\n",
    "    cell_idx = None       \n",
    "    for ch, (l1, l2) in cell_threshold.items():\n",
    "        if not cell_idx:\n",
    "            cell_idx = set(df[(df[ch] > l1) & (df[ch] < l2)].index)\n",
    "        else:\n",
    "            cell_idx = cell_idx.intersection(set(df[(df[ch] > l1) & (df[ch] < l2)].index))\n",
    "\n",
    "    if df_n == 'Tube9':\n",
    "        cell_idx = set(df.index) - cell_idx - bead_idx\n",
    "    other_particles = df.shape[0] - len(bead_idx) - len(cell_idx)\n",
    "    assert len(bead_idx.intersection(cell_idx)) == 0\n",
    "    event_ratio = len(cell_idx)/len(bead_idx) # cells/bead\n",
    "    concentration = (ratio_multiplier*event_ratio)/fixative_dilution # cells/bead * beads/mL = cells/mL\n",
    "    print(\"Sample: {} has {} beads, {} cells, {} other events\".format(df_n, len(bead_idx), len(cell_idx), other_particles))\n",
    "    print(\"Cell concentration is {:.3e} cells/mL\".format(concentration))\n",
    "    "
   ]
  },
  {
   "cell_type": "code",
   "execution_count": null,
   "metadata": {},
   "outputs": [],
   "source": []
  }
 ],
 "metadata": {
  "kernelspec": {
   "display_name": "Python 3",
   "language": "python",
   "name": "python3"
  },
  "language_info": {
   "codemirror_mode": {
    "name": "ipython",
    "version": 3
   },
   "file_extension": ".py",
   "mimetype": "text/x-python",
   "name": "python",
   "nbconvert_exporter": "python",
   "pygments_lexer": "ipython3",
   "version": "3.6.7"
  }
 },
 "nbformat": 4,
 "nbformat_minor": 2
}
