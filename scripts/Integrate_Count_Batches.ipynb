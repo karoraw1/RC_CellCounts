{
 "cells": [
  {
   "cell_type": "code",
   "execution_count": 1,
   "metadata": {},
   "outputs": [],
   "source": [
    "import os\n",
    "import numpy as np\n",
    "import pandas as pd\n",
    "from sklearn.preprocessing import StandardScaler\n",
    "\n",
    "import matplotlib.pyplot as plt\n",
    "plt.close('all')"
   ]
  },
  {
   "cell_type": "code",
   "execution_count": 2,
   "metadata": {},
   "outputs": [
    {
     "name": "stdout",
     "output_type": "stream",
     "text": [
      "02_07_20\n",
      "02_07_20: (47, 19), 173.72%\n",
      "11_26_19\n",
      "11_26_19: (19, 19), 89.31%\n",
      "01_21_20\n",
      "01_21_20: (57, 19), 83.76%\n",
      "02_03_20\n",
      "02_03_20: (49, 19), 49.19%\n",
      "172 172\n",
      "191 191\n"
     ]
    }
   ],
   "source": [
    "data_dir = \"/Volumes/KeithSSD/RockCreek/RC_CellCounts/data/Batch_Summaries\"\n",
    "data_dates = [(i.replace(\".txt\", ''), os.path.join(data_dir, i) ) for i in os.listdir(data_dir) if not 'ga' in i and i.endswith(\".txt\")]\n",
    "dfs = []\n",
    "for dname, dpath in data_dates:\n",
    "    temp_df = pd.read_csv(dpath, sep='\\t')\n",
    "    print(dname)\n",
    "    temp_df['batch'] = pd.Series([dname]*len(temp_df), index=temp_df.index)\n",
    "    flags = temp_df['Sample Depth'].str.contains('CONTROL')\n",
    "    temp_conc = temp_df['concentration'].copy().astype(float)\n",
    "    log_conc = temp_conc.apply(np.log)\n",
    "    temp_df['log-2-conc'] = log_conc.copy()\n",
    "    temp_conc[flags] = temp_conc[~flags].mean()\n",
    "    log_conc[flags] = log_conc[~flags].mean()\n",
    "    print(\"{}: {}, {:.2%}\".format(dname, temp_df.shape, temp_conc.std()/temp_conc.mean()))\n",
    "    z_score = StandardScaler().fit_transform(temp_conc.values.reshape(-1, 1))\n",
    "    log_z_score = StandardScaler().fit_transform(log_conc.values.reshape(-1, 1))\n",
    "    temp_df['z-score'] = pd.Series(z_score.reshape(-1,), index=temp_df.index) \n",
    "    temp_df['log-z-score'] = pd.Series(log_z_score.reshape(-1,), index=temp_df.index)\n",
    "    dfs.append(temp_df.copy())\n",
    "\n",
    "count_df = pd.concat(dfs, axis=0, ignore_index=True, sort=True)\n",
    "count_df['Sample Date'] = pd.to_datetime(count_df['Sample Date'])\n",
    "count_df['Prefilter-Date'] = pd.to_datetime(count_df['Prefilter-Date'])\n",
    "\n",
    "exp_cnt_file = \"/Volumes/KeithSSD/RockCreek/RC_CellCounts/data/RockCreekCytometrySamples_Feb17.xlsx\"\n",
    "exp_cnt_df_pre = pd.read_excel(exp_cnt_file, sheet_name='Cytometry Filtered Tube Labels')\n",
    "\n",
    "matched_cols = ['Prefilter-Date', 'Sample Date', 'Sample Depth', 'Sample Station', 'Sample Time', 'Check', 'Tube']\n",
    "\n",
    "count_df['col_tuple'] = count_df[matched_cols].astype(str).apply(tuple, axis=1)\n",
    "exp_cnt_df_pre['col_tuple'] = exp_cnt_df_pre[matched_cols].astype(str).apply(tuple, axis=1)\n",
    "\n",
    "counted_rows = np.unique(count_df['col_tuple'].values, return_counts=1)\n",
    "print(len(counted_rows[0]), len(count_df))\n",
    "\n",
    "all_rows = np.unique(exp_cnt_df_pre['col_tuple'].values, return_counts=1)\n",
    "print(len(all_rows[0]), len(exp_cnt_df_pre))\n",
    "\n",
    "assert len(all_rows[0][all_rows[1]>1]) == len(counted_rows[0][counted_rows[1]>1]) == 0\n",
    "\n",
    "missing_rows = set(counted_rows[0]) - set(all_rows[0])\n",
    "assert missing_rows == set()\n"
   ]
  },
  {
   "cell_type": "code",
   "execution_count": 3,
   "metadata": {},
   "outputs": [
    {
     "name": "stdout",
     "output_type": "stream",
     "text": [
      "19 rows to be done\n",
      "('2019-11-26', '2019-07-10', 'TOP', 'RC1', 'PM', '1.0', '19.0')\n",
      "('2019-11-26', '2019-07-10', 'BOTTOM', 'RC1', 'AM', '1.0', '7.0')\n",
      "('2019-11-26', '2019-07-10', 'TOP', 'RC2', 'PM', '1.0', '15.0')\n",
      "('2020-02-05', '2019-07-26', 'TOP', 'RC7', 'PM', '1.0', '3.0')\n",
      "('2019-11-26', '2019-07-17', 'TOP', 'RC2', 'PM', '1.0', '20.0')\n",
      "('2020-02-05', '2019-07-29', 'BOTTOM', 'RC7', 'PM', '1.0', '11.0')\n",
      "('2019-11-26', '2019-07-10', 'TOP', 'RC9', 'PM', '1.0', '12.0')\n",
      "('2020-01-31', '2019-07-08', 'BOTTOM', 'RC1', 'PM', '1.0', '26.0')\n",
      "('2019-11-26', '2019-11-26', 'POSITIVE CONTROL', 'nan', 'nan', 'nan', '33.0')\n",
      "('2020-02-05', '2019-07-30', 'BOTTOM', 'RC1', 'PM', '1.0', '14.0')\n",
      "('2019-11-26', '2019-07-09', 'BOTTOM', 'RC1', 'AM', '1.0', '5.0')\n",
      "('2019-11-26', '2019-07-26', 'BOTTOM', 'RC9', 'AM', '2.0', '31.0')\n",
      "('2019-11-26', '2019-07-10', 'BOTTOM', 'RC1', 'PM', '1.0', '11.0')\n",
      "('2019-11-26', '2019-07-10', 'BOTTOM', 'RC2', 'AM', '1.0', '1.0')\n",
      "('2019-11-26', '2019-07-10', 'TOP', 'RC7', 'AM', '1.0', '2.0')\n",
      "('2019-11-26', '2019-07-10', 'BOTTOM', 'RC7', 'AM', '1.0', '8.0')\n",
      "('2019-11-26', '2019-07-10', 'TOP', 'RC7', 'PM', '1.0', '13.0')\n",
      "('2019-11-26', '2019-11-26', 'NEGATIVE CONTROL', 'nan', 'nan', 'nan', '32.0')\n",
      "('NaT', 'NaT', 'BOTTOM', 'RC2 ', 'PM', 'nan', 'nan')\n"
     ]
    }
   ],
   "source": [
    "not_done_rows = set(all_rows[0]) - set(counted_rows[0]) \n",
    "print(\"{} rows to be done\".format(len(not_done_rows)))\n",
    "for ntr in not_done_rows:\n",
    "    print(ntr)"
   ]
  },
  {
   "cell_type": "code",
   "execution_count": 4,
   "metadata": {},
   "outputs": [
    {
     "name": "stdout",
     "output_type": "stream",
     "text": [
      "Adding concentration\n",
      "Adding proc_datetime\n",
      "Adding log-conc\n",
      "Adding log-2-conc\n",
      "Adding data_index\n",
      "Adding conc_int\n",
      "Adding log-z-score\n",
      "Adding batch\n",
      "Adding log-noise\n",
      "Adding Tube_fmt\n",
      "Adding z-score\n"
     ]
    }
   ],
   "source": [
    "missing_cols = set(count_df.columns) - set(exp_cnt_df_pre.columns)\n",
    "for mc in missing_cols:\n",
    "    print(\"Adding {}\".format(mc))\n",
    "    exp_cnt_df_pre[mc] = pd.Series(index=exp_cnt_df_pre.index)\n",
    "    for row_tup in counted_rows[0]:\n",
    "        ix_base = exp_cnt_df_pre.index[exp_cnt_df_pre['col_tuple'] == row_tup]\n",
    "        ix_in = count_df.index[count_df['col_tuple'] == row_tup]\n",
    "        assert len(ix_base) == len(ix_in) == 1\n",
    "        exp_cnt_df_pre.loc[ix_base[0], mc] = count_df.loc[ix_in[0], mc]"
   ]
  },
  {
   "cell_type": "code",
   "execution_count": 5,
   "metadata": {},
   "outputs": [
    {
     "name": "stdout",
     "output_type": "stream",
     "text": [
      "02_07_20 45\n",
      "02_03_20 47\n",
      "11_26_19 19\n",
      "01_21_20 55\n"
     ]
    },
    {
     "data": {
      "text/plain": [
       "<matplotlib.axes._subplots.AxesSubplot at 0x11d63f5f8>"
      ]
     },
     "execution_count": 5,
     "metadata": {},
     "output_type": "execute_result"
    },
    {
     "data": {
      "image/png": "[encoded data removed]",
      "text/plain": [
       "<Figure size 432x288 with 1 Axes>"
      ]
     },
     "metadata": {
      "needs_background": "light"
     },
     "output_type": "display_data"
    }
   ],
   "source": [
    "batch_lists = {}\n",
    "non_controls = ~exp_cnt_df_pre['Sample Depth'].str.contains('CONTROL')\n",
    "for _batch_ in exp_cnt_df_pre['batch'].dropna().unique():\n",
    "    batch_vec = exp_cnt_df_pre.loc[(exp_cnt_df_pre['batch'] == _batch_) & (non_controls), 'z-score'].values\n",
    "    print(_batch_, len(batch_vec))\n",
    "    batch_lists[_batch_] = list(batch_vec)\n",
    "\n",
    "top_lim = max([len(v) for v in batch_lists.values()])\n",
    "for k, v in batch_lists.items():\n",
    "    batch_lists[k] = v + [np.nan]*(top_lim-len(v))\n",
    "\n",
    "batch_df = pd.DataFrame(batch_lists)\n",
    "batch_df.plot.hist(alpha=0.5, stacked=True, bins=15)"
   ]
  },
  {
   "cell_type": "code",
   "execution_count": 6,
   "metadata": {},
   "outputs": [
    {
     "name": "stdout",
     "output_type": "stream",
     "text": [
      "02_07_20 45\n",
      "02_03_20 47\n",
      "11_26_19 19\n",
      "01_21_20 55\n"
     ]
    },
    {
     "data": {
      "text/plain": [
       "<matplotlib.axes._subplots.AxesSubplot at 0x11f7ef668>"
      ]
     },
     "execution_count": 6,
     "metadata": {},
     "output_type": "execute_result"
    },
    {
     "data": {
      "image/png": "[encoded data removed]",
      "text/plain": [
       "<Figure size 432x288 with 1 Axes>"
      ]
     },
     "metadata": {
      "needs_background": "light"
     },
     "output_type": "display_data"
    }
   ],
   "source": [
    "log_lists = {}\n",
    "for _batch_ in exp_cnt_df_pre['batch'].dropna().unique():\n",
    "    log_vec = exp_cnt_df_pre.loc[(exp_cnt_df_pre['batch'] == _batch_) & (non_controls), 'log-z-score'].values\n",
    "    print(_batch_, len(log_vec))\n",
    "    log_lists[_batch_] = list(log_vec)\n",
    "\n",
    "top_limlz = max([len(v) for v in log_lists.values()])\n",
    "for k, v in log_lists.items():\n",
    "    log_lists[k] = v + [np.nan]*(top_limlz-len(v))\n",
    "\n",
    "loglz_df = pd.DataFrame(log_lists)\n",
    "loglz_df.plot.hist(alpha=0.5, stacked=True, bins=15)"
   ]
  },
  {
   "cell_type": "code",
   "execution_count": 7,
   "metadata": {},
   "outputs": [
    {
     "name": "stdout",
     "output_type": "stream",
     "text": [
      "02_07_20 45\n",
      "02_03_20 47\n",
      "11_26_19 19\n",
      "01_21_20 55\n"
     ]
    },
    {
     "data": {
      "text/plain": [
       "<matplotlib.axes._subplots.AxesSubplot at 0x11f92f1d0>"
      ]
     },
     "execution_count": 7,
     "metadata": {},
     "output_type": "execute_result"
    },
    {
     "data": {
      "image/png": "[encoded data removed]",
      "text/plain": [
       "<Figure size 432x288 with 1 Axes>"
      ]
     },
     "metadata": {
      "needs_background": "light"
     },
     "output_type": "display_data"
    }
   ],
   "source": [
    "conc_lists = {}\n",
    "for _batch_ in exp_cnt_df_pre['batch'].dropna().unique():\n",
    "    conc_vec = exp_cnt_df_pre.loc[(exp_cnt_df_pre['batch'] == _batch_) & (non_controls), 'concentration'].values\n",
    "    print(_batch_, len(conc_vec))\n",
    "    conc_lists[_batch_] = list(conc_vec)\n",
    "\n",
    "top_limc = max([len(v) for v in conc_lists.values()])\n",
    "for k, v in conc_lists.items():\n",
    "    conc_lists[k] = v + [np.nan]*(top_limc-len(v))\n",
    "\n",
    "conc_df = pd.DataFrame(conc_lists)\n",
    "conc_df.plot.hist(alpha=0.5, stacked=True)"
   ]
  },
  {
   "cell_type": "code",
   "execution_count": 8,
   "metadata": {},
   "outputs": [
    {
     "data": {
      "text/html": [
       "<div>\n",
       "<style scoped>\n",
       "    .dataframe tbody tr th:only-of-type {\n",
       "        vertical-align: middle;\n",
       "    }\n",
       "\n",
       "    .dataframe tbody tr th {\n",
       "        vertical-align: top;\n",
       "    }\n",
       "\n",
       "    .dataframe thead th {\n",
       "        text-align: right;\n",
       "    }\n",
       "</style>\n",
       "<table border=\"1\" class=\"dataframe\">\n",
       "  <thead>\n",
       "    <tr style=\"text-align: right;\">\n",
       "      <th></th>\n",
       "      <th>160</th>\n",
       "    </tr>\n",
       "  </thead>\n",
       "  <tbody>\n",
       "    <tr>\n",
       "      <th>Prefilter-Date</th>\n",
       "      <td>2020-02-05 00:00:00</td>\n",
       "    </tr>\n",
       "    <tr>\n",
       "      <th>Tube</th>\n",
       "      <td>23</td>\n",
       "    </tr>\n",
       "    <tr>\n",
       "      <th>Sample Date</th>\n",
       "      <td>2019-07-29 00:00:00</td>\n",
       "    </tr>\n",
       "    <tr>\n",
       "      <th>Sample Time</th>\n",
       "      <td>PM</td>\n",
       "    </tr>\n",
       "    <tr>\n",
       "      <th>Sample Depth</th>\n",
       "      <td>TOP</td>\n",
       "    </tr>\n",
       "    <tr>\n",
       "      <th>Sample Station</th>\n",
       "      <td>RC9</td>\n",
       "    </tr>\n",
       "    <tr>\n",
       "      <th>Notes</th>\n",
       "      <td>NaN</td>\n",
       "    </tr>\n",
       "    <tr>\n",
       "      <th>Processing Speed</th>\n",
       "      <td>Low</td>\n",
       "    </tr>\n",
       "    <tr>\n",
       "      <th>Notes.1</th>\n",
       "      <td>NaN</td>\n",
       "    </tr>\n",
       "    <tr>\n",
       "      <th>Check</th>\n",
       "      <td>1</td>\n",
       "    </tr>\n",
       "    <tr>\n",
       "      <th>col_tuple</th>\n",
       "      <td>(2020-02-05, 2019-07-29, TOP, RC9, PM, 1.0, 23.0)</td>\n",
       "    </tr>\n",
       "    <tr>\n",
       "      <th>concentration</th>\n",
       "      <td>2.91808e+06</td>\n",
       "    </tr>\n",
       "    <tr>\n",
       "      <th>proc_datetime</th>\n",
       "      <td>2020-02-07 00:00:00</td>\n",
       "    </tr>\n",
       "    <tr>\n",
       "      <th>log-conc</th>\n",
       "      <td>6.4651</td>\n",
       "    </tr>\n",
       "    <tr>\n",
       "      <th>log-2-conc</th>\n",
       "      <td>14.8864</td>\n",
       "    </tr>\n",
       "    <tr>\n",
       "      <th>data_index</th>\n",
       "      <td>Tube_23</td>\n",
       "    </tr>\n",
       "    <tr>\n",
       "      <th>conc_int</th>\n",
       "      <td>2.91808e+06</td>\n",
       "    </tr>\n",
       "    <tr>\n",
       "      <th>log-z-score</th>\n",
       "      <td>2.18216</td>\n",
       "    </tr>\n",
       "    <tr>\n",
       "      <th>batch</th>\n",
       "      <td>02_07_20</td>\n",
       "    </tr>\n",
       "    <tr>\n",
       "      <th>log-noise</th>\n",
       "      <td>7.00821</td>\n",
       "    </tr>\n",
       "    <tr>\n",
       "      <th>Tube_fmt</th>\n",
       "      <td>Tube_23</td>\n",
       "    </tr>\n",
       "    <tr>\n",
       "      <th>z-score</th>\n",
       "      <td>5.00004</td>\n",
       "    </tr>\n",
       "  </tbody>\n",
       "</table>\n",
       "</div>"
      ],
      "text/plain": [
       "                                                                160\n",
       "Prefilter-Date                                  2020-02-05 00:00:00\n",
       "Tube                                                             23\n",
       "Sample Date                                     2019-07-29 00:00:00\n",
       "Sample Time                                                      PM\n",
       "Sample Depth                                                    TOP\n",
       "Sample Station                                                  RC9\n",
       "Notes                                                           NaN\n",
       "Processing Speed                                                Low\n",
       "Notes.1                                                         NaN\n",
       "Check                                                             1\n",
       "col_tuple         (2020-02-05, 2019-07-29, TOP, RC9, PM, 1.0, 23.0)\n",
       "concentration                                           2.91808e+06\n",
       "proc_datetime                                   2020-02-07 00:00:00\n",
       "log-conc                                                     6.4651\n",
       "log-2-conc                                                  14.8864\n",
       "data_index                                                  Tube_23\n",
       "conc_int                                                2.91808e+06\n",
       "log-z-score                                                 2.18216\n",
       "batch                                                      02_07_20\n",
       "log-noise                                                   7.00821\n",
       "Tube_fmt                                                    Tube_23\n",
       "z-score                                                     5.00004"
      ]
     },
     "execution_count": 8,
     "metadata": {},
     "output_type": "execute_result"
    }
   ],
   "source": [
    "exp_cnt_df_pre['Sample Station']"
   ]
  },
  {
   "cell_type": "code",
   "execution_count": null,
   "metadata": {},
   "outputs": [],
   "source": []
  }
 ],
 "metadata": {
  "kernelspec": {
   "display_name": "Python 3",
   "language": "python",
   "name": "python3"
  },
  "language_info": {
   "codemirror_mode": {
    "name": "ipython",
    "version": 3
   },
   "file_extension": ".py",
   "mimetype": "text/x-python",
   "name": "python",
   "nbconvert_exporter": "python",
   "pygments_lexer": "ipython3",
   "version": "3.7.3"
  }
 },
 "nbformat": 4,
 "nbformat_minor": 2
}
